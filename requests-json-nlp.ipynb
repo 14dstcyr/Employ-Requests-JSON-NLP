{
 "cells": [
  {
   "cell_type": "markdown",
   "metadata": {},
   "source": [
    "<h1 style= \"color:Blue; text-align:center\"> Web Mining and Applied NLP (44-620) </h1>\n",
    "\n",
    "## Requests, JSON, and NLP\n",
    "\n",
    "### Student Name: Deb St. Cyr    https://github.com/14dstcyr/Employ-Requests-JSON-NLP\n",
    "\n",
    "Perform the tasks described in the Markdown cells below.  When you have completed the assignment make sure your code cells have all been run (and have output beneath them) and ensure you have committed and pushed ALL of your changes to your assignment repository.\n",
    "\n",
    "Make sure you have [installed spaCy and its pipeline](https://spacy.io/usage#quickstart) and [spaCyTextBlob](https://spacy.io/universe/project/spacy-textblob)\n",
    "\n",
    "Every question that requires you to write code will have a code cell underneath it; you may either write your entire solution in that cell or write it in a python file (`.py`), then import and run the appropriate code to answer the question.\n",
    "\n",
    "This assignment requires that you write additional files (either JSON or pickle files); make sure to submit those files in your repository as well."
   ]
  },
  {
   "cell_type": "markdown",
   "metadata": {},
   "source": [
    "The following code accesses the [lyrics.ovh](https://lyricsovh.docs.apiary.io/#reference/0/lyrics-of-a-song/search) public api, searches for the lyrics of a song, and stores it in a dictionary object.  Write the resulting json to a file (either a JSON file or a pickle file; you choose). You will read in the contents of this file for future questions so we do not need to frequently access the API."
   ]
  },
  {
   "cell_type": "code",
   "execution_count": 12,
   "metadata": {},
   "outputs": [
    {
     "name": "stdout",
     "output_type": "stream",
     "text": [
      "All the requirements are installed\n",
      "Package            Version\n",
      "------------------ ------------\n",
      "annotated-types    0.7.0\n",
      "asttokens          2.4.1\n",
      "blis               1.0.1\n",
      "catalogue          2.0.10\n",
      "certifi            2024.8.30\n",
      "charset-normalizer 3.4.0\n",
      "click              8.1.7\n",
      "cloudpathlib       0.20.0\n",
      "colorama           0.4.6\n",
      "comm               0.2.2\n",
      "confection         0.1.5\n",
      "cymem              2.0.8\n",
      "debugpy            1.8.8\n",
      "decorator          5.1.1\n",
      "en_core_web_sm     3.8.0\n",
      "executing          2.1.0\n",
      "idna               3.10\n",
      "ipykernel          6.29.5\n",
      "ipython            8.29.0\n",
      "jedi               0.19.2\n",
      "Jinja2             3.1.4\n",
      "joblib             1.4.2\n",
      "jupyter_client     8.6.3\n",
      "jupyter_core       5.7.2\n",
      "langcodes          3.5.0\n",
      "language_data      1.3.0\n",
      "marisa-trie        1.2.1\n",
      "markdown-it-py     3.0.0\n",
      "MarkupSafe         3.0.2\n",
      "matplotlib-inline  0.1.7\n",
      "mdurl              0.1.2\n",
      "murmurhash         1.0.10\n",
      "nest-asyncio       1.6.0\n",
      "nltk               3.9.1\n",
      "numpy              2.0.2\n",
      "packaging          24.2\n",
      "parso              0.8.4\n",
      "pip                24.3.1\n",
      "platformdirs       4.3.6\n",
      "preshed            3.0.9\n",
      "prompt_toolkit     3.0.48\n",
      "psutil             6.1.0\n",
      "pure_eval          0.2.3\n",
      "pydantic           2.9.2\n",
      "pydantic_core      2.23.4\n",
      "Pygments           2.18.0\n",
      "python-dateutil    2.9.0.post0\n",
      "pywin32            308\n",
      "pyzmq              26.2.0\n",
      "regex              2024.11.6\n",
      "requests           2.32.3\n",
      "rich               13.9.4\n",
      "setuptools         75.5.0\n",
      "shellingham        1.5.4\n",
      "six                1.16.0\n",
      "smart-open         7.0.5\n",
      "spacy              3.8.2\n",
      "spacy-legacy       3.0.12\n",
      "spacy-loggers      1.0.5\n",
      "spacytextblob      5.0.0\n",
      "srsly              2.4.8\n",
      "stack-data         0.6.3\n",
      "textblob           0.18.0.post0\n",
      "thinc              8.3.2\n",
      "tornado            6.4.1\n",
      "tqdm               4.67.0\n",
      "traitlets          5.14.3\n",
      "typer              0.13.1\n",
      "typing_extensions  4.12.2\n",
      "urllib3            2.2.3\n",
      "wasabi             1.1.3\n",
      "wcwidth            0.2.13\n",
      "weasel             0.4.1\n",
      "wheel              0.45.0\n",
      "wrapt              1.16.0\n"
     ]
    }
   ],
   "source": [
    "import json\n",
    "import pickle\n",
    "\n",
    "import requests\n",
    "import spacy\n",
    "\n",
    "print('All the requirements are installed')\n",
    "!pip list"
   ]
  },
  {
   "cell_type": "markdown",
   "metadata": {},
   "source": [
    "# Question 1\n",
    "\n",
    "The following code accesses the [lyrics.ovh](https://lyricsovh.docs.apiary.io/#reference/0/lyrics-of-a-song/search) public api, searches for the lyrics of a song, and stores it in a dictionary object.  Write the resulting json to a file (either a JSON file or a pickle file; you choose). You will read in the contents of this file for future questions so we do not need to frequently access the API."
   ]
  },
  {
   "cell_type": "code",
   "execution_count": 15,
   "metadata": {},
   "outputs": [
    {
     "name": "stdout",
     "output_type": "stream",
     "text": [
      "Lyrics saved tosong_lyrics\\Pipes_of_Peace.json\n"
     ]
    }
   ],
   "source": [
    "import requests\n",
    "import json\n",
    "import os\n",
    "import spacy\n",
    "from spacytextblob.spacytextblob import SpacyTextBlob\n",
    "\n",
    "result = json.loads(requests.get('https://api.lyrics.ovh/v1/Paul McCartney/Pipes Of Peace').text)\n",
    "\n",
    "# Create a folder and file path\n",
    "folder_name = 'song_lyrics'\n",
    "file_name = 'Pipes_of_Peace.json'\n",
    "\n",
    "# If folder does not exist, create one\n",
    "if not os.path.exists(folder_name):\n",
    "    os.makedirs(folder_name)\n",
    "\n",
    "# Create path to file\n",
    "file_path = os.path.join(folder_name, file_name)\n",
    "\n",
    "# Write the JSON file result\n",
    "with open(file_path, 'w', encoding='utf-8') as file:\n",
    "    json.dump(result, file, ensure_ascii=False, indent=4)\n",
    "    \n",
    "print(f\"Lyrics saved to{file_path}\")\n",
    "\n",
    "\n"
   ]
  },
  {
   "cell_type": "markdown",
   "metadata": {},
   "source": [
    "# Question 2\n",
    "\n",
    "Read in the contents of your file.  Print the lyrics of the song (not the entire dictionary!) and use spaCyTextBlob to perform sentiment analysis on the lyrics.  Print the polarity score of the sentiment analysis.  Given that the range of the polarity score is `[-1.0,1.0]` which corresponds to how positive or negative the text in question is, do you think the lyrics have a more positive or negative connotation?  Answer this question in a comment in your code cell."
   ]
  },
  {
   "cell_type": "code",
   "execution_count": 23,
   "metadata": {},
   "outputs": [
    {
     "name": "stdout",
     "output_type": "stream",
     "text": [
      "Lyrics: Lyrics of the song are...\n",
      "{'lyrics': \"I light a candle to our love, \\nIn love our problems disappear. \\nBut all in all we soon discover \\nThat one and one is all we long to hear. \\nAll 'round the world, \\n\\nLittle children being born to the world. \\n\\nGot to give them all we can 'til the war is won, \\n\\nThen will the work be done. \\n\\n\\n\\nHelp them to learn (help them to learn) \\n\\nSongs of joy instead of burn, baby, burn. \\n\\nLet us show them how to play \\n\\nThe pipes of peace, \\n\\nPlay the pipes of peace. \\n\\n\\n\\nOoh-ooh-ooh-ooh, \\n\\nOoh-ooh-ooh. \\n\\n\\n\\nHelp me to learn \\n\\nSongs of joy instead of burn, baby, burn, \\n\\nWon't you show me to play (how to play) \\n\\nThe pipes of peace, (pipes of peace) \\n\\nPlay the pipes of peace \\n\\n\\n\\nOoh-ooh-ooh-ooh. \\n\\n\\n\\nWhat do you say? (what do you say?) \\n\\nWill the human race be run in a day? (in a day?) \\n\\nOr will someone save this planet we're playing on? \\n\\nIs it the only one? \\n\\n\\n\\nWhat are we gonna do? \\n\\n\\n\\nHelp them to see (help them to see) \\n\\nThat the people here are like you and me. (like you and me) \\n\\nLet us show them how to play (how to play) \\n\\nThe pipes of peace, (pipes of peace) \\n\\nPlay the pipes of peace. \\n\\n\\n\\nOoh-ooh-ooh-ooh. \\n\\n\\n\\nI light a candle to our love, \\n\\nIn love our problems disappear. \\n\\nBut all in all we soon discover \\n\\nThat one and one is all we long to hear.\"}\n",
      "'Pipes Of Peace'\n",
      "Polarity Score: 0.0\n",
      "The score is 0. The lyrics have a neutral sentiment.\n"
     ]
    }
   ],
   "source": [
    "import spacy\n",
    "from spacytextblob.spacytextblob import SpacyTextBlob\n",
    "import requests\n",
    "import json\n",
    "\n",
    "# Assuming `result` is your API response and contains a 'lyrics' field\n",
    "result = {\"lyrics\": \"Lyrics of the song are...\"}  # Example data\n",
    "\n",
    "# Extract only the lyrics text from the API response\n",
    "lyrics = result.get('lyrics', '')\n",
    "\n",
    "# Print lyrics\n",
    "print(\"Lyrics:\", lyrics)\n",
    "\n",
    "# Load spaCy\n",
    "nlp = spacy.load(\"en_core_web_sm\")\n",
    "\n",
    "# Add spacytextblob to pipeline\n",
    "nlp.add_pipe(\"spacytextblob\")\n",
    "\n",
    "# Process lyrics with spaCy\n",
    "doc = nlp(lyrics)\n",
    "\n",
    "result = json.loads(requests.get('https://api.lyrics.ovh/v1/Paul McCartney/Pipes Of Peace').text)\n",
    "print(result)\n",
    "\n",
    "# Sentiment Analysis and polarity score\n",
    "polarity_score = doc._.blob.polarity\n",
    "\n",
    "print(\"'Pipes Of Peace'\")\n",
    "\n",
    "# Print sentiment analysis results\n",
    "print(\"Polarity Score:\", polarity_score)\n",
    "\n",
    "if polarity_score > 0:\n",
    "    print(\"The score is closer to 1. The lyrics have a more positive sentiment.\")\n",
    "elif polarity_score < 0:\n",
    "    print(\"The score is closer to -1. The lyrics have a more negative sentiment.\")\n",
    "else:\n",
    "    print(\"The score is 0. The lyrics have a neutral sentiment.\")"
   ]
  },
  {
   "cell_type": "markdown",
   "metadata": {},
   "source": [
    "### Question 3 "
   ]
  },
  {
   "cell_type": "markdown",
   "metadata": {},
   "source": [
    "Write a function that takes an artist, song, and filename, accesses the lyrics.ovh api to get the song lyrics, and writes the results to the specified filename.  Test this function by getting the lyrics to any four songs of your choice and storing them in different files."
   ]
  },
  {
   "cell_type": "code",
   "execution_count": 25,
   "metadata": {},
   "outputs": [
    {
     "name": "stdout",
     "output_type": "stream",
     "text": [
      "Lyrics saved to song_lyrics\\Yellow_Submarine.json\n",
      "Lyrics saved to song_lyrics\\I_Want_You_To_Want_Me.json\n",
      "Lyrics saved to song_lyrics\\One_Of_These_Nights.json\n",
      "Lyrics saved to song_lyrics\\With_A_Little_Luck.json\n"
     ]
    }
   ],
   "source": [
    "def song_lyric_file_json(artist, song, folder_name='song_lyrics'):\n",
    "    # Retrieve lyrics from the API\n",
    "    response = requests.get(f'https://api.lyrics.ovh/v1/{artist}/{song}')\n",
    "    \n",
    "    # Check if the request was successful\n",
    "    if response.status_code == 200:\n",
    "        result = response.json()\n",
    "        \n",
    "        # Replace spaces with underscores in the song title for the filename\n",
    "        # This ensures there are no spaces in the filename\n",
    "        song_title_filename = song.replace(' ', '_')\n",
    "        \n",
    "        # Define the full path to the file (song title as filename with .json extension)\n",
    "        file_name = f'{song_title_filename}.json'\n",
    "        file_path = os.path.join(folder_name, file_name)\n",
    "\n",
    "        # Create the folder if it does not exist\n",
    "        if not os.path.exists(folder_name):\n",
    "            os.makedirs(folder_name)\n",
    "        \n",
    "        # Write the result to the JSON file\n",
    "        with open(file_path, 'w', encoding='utf-8') as file:\n",
    "            json.dump(result, file, ensure_ascii=False, indent=4)\n",
    "        \n",
    "        print(f\"Lyrics saved to {file_path}\")\n",
    "    else:\n",
    "        print(f\"Error: Could not retrieve lyrics for {song} by {artist}\")\n",
    "# Example usage:\n",
    "song_lyric_file_json('Beatles', 'Yellow Submarine')\n",
    "song_lyric_file_json('Cheap Trick', 'I Want You To Want Me')\n",
    "song_lyric_file_json('The Eagles', 'One Of These Nights')\n",
    "song_lyric_file_json('Paul McCartney', 'With A Little Luck')\n",
    "\n"
   ]
  },
  {
   "cell_type": "markdown",
   "metadata": {},
   "source": [
    "### Question 4"
   ]
  },
  {
   "cell_type": "markdown",
   "metadata": {},
   "source": [
    "Write a function that takes the name of a file that contains song lyrics, loads the file, performs sentiment analysis, and returns the polarity score.  Use this function to print the polarity scores (with the name of the song) of the three files you created in question 3.  Does the reported polarity match your understanding of the song's lyrics? Why or why not do you think that might be?  Answer the questions in either a comment in the code cell or a markdown cell under the code cell."
   ]
  },
  {
   "cell_type": "code",
   "execution_count": 26,
   "metadata": {},
   "outputs": [
    {
     "name": "stdout",
     "output_type": "stream",
     "text": [
      "Yellow_Submarine lyrics have a Polarity Score of: 0.060272727272727256\n",
      "The sentiment is positive.\n",
      "I_Want_You_To_Want_Me lyrics have a Polarity Score of: 0.38571428571428573\n",
      "The sentiment is positive.\n",
      "One_Of_These_Nights lyrics have a Polarity Score of: -0.06761554621848742\n",
      "The sentiment is negative.\n",
      "With_A_Little_Luck lyrics have a Polarity Score of: -0.08067632850241546\n",
      "The sentiment is negative.\n"
     ]
    }
   ],
   "source": [
    "def analyze_sentiment_from_file(file_name):\n",
    "    # Load spaCy model\n",
    "    nlp = spacy.load(\"en_core_web_sm\")\n",
    "    \n",
    "    # Add the spaCyTextBlob component to the pipeline if it's not added\n",
    "    if \"spacytextblob\" not in nlp.pipe_names:\n",
    "        nlp.add_pipe(\"spacytextblob\")\n",
    "\n",
    "    # Define the folder where the song lyrics files are saved\n",
    "    folder_name = 'song_lyrics'  # Adjust if needed\n",
    "    \n",
    "    # Construct the full file path\n",
    "    file_path = os.path.join(folder_name, f\"{file_name}.json\")\n",
    "    \n",
    "    try:\n",
    "        # Load the lyrics from the JSON file\n",
    "        with open(file_path, 'r', encoding='utf-8') as file:\n",
    "            result = json.load(file)\n",
    "        \n",
    "        # Extract lyrics from the JSON file\n",
    "        lyrics = result.get(\"lyrics\", \"\")\n",
    "        \n",
    "        if not lyrics:\n",
    "            print(\"No lyrics found in the file.\")\n",
    "            return\n",
    "\n",
    "        # Process the lyrics with spaCy\n",
    "        doc = nlp(lyrics)\n",
    "\n",
    "        # Perform sentiment analysis for a polarity score\n",
    "        polarity = doc._.blob.polarity\n",
    "\n",
    "        # Print the polarity score\n",
    "        print(f\"{file_name} lyrics have a Polarity Score of: {polarity}\")\n",
    "\n",
    "        # Interpret the sentiment\n",
    "        if polarity > 0:\n",
    "            print(\"The sentiment is positive.\")\n",
    "        elif polarity < 0:\n",
    "            print(\"The sentiment is negative.\")\n",
    "        else:\n",
    "            print(\"The sentiment is neutral.\")\n",
    "    \n",
    "    except FileNotFoundError:\n",
    "        print(f\"Error: The file at {file_path} was not found.\")\n",
    "    except json.JSONDecodeError:\n",
    "        print(\"Error: The file is not a valid JSON file.\")\n",
    "    except Exception as e:\n",
    "        print(f\"An error occurred: {e}\")\n",
    "\n",
    "# Example usage:\n",
    "analyze_sentiment_from_file('Yellow_Submarine')  \n",
    "analyze_sentiment_from_file('I_Want_You_To_Want_Me')\n",
    "analyze_sentiment_from_file('One_Of_These_Nights')\n",
    "analyze_sentiment_from_file('With_A_Little_Luck')"
   ]
  },
  {
   "cell_type": "markdown",
   "metadata": {},
   "source": []
  }
 ],
 "metadata": {
  "kernelspec": {
   "display_name": ".env",
   "language": "python",
   "name": "python3"
  },
  "language_info": {
   "codemirror_mode": {
    "name": "ipython",
    "version": 3
   },
   "file_extension": ".py",
   "mimetype": "text/x-python",
   "name": "python",
   "nbconvert_exporter": "python",
   "pygments_lexer": "ipython3",
   "version": "3.12.2"
  }
 },
 "nbformat": 4,
 "nbformat_minor": 4
}
